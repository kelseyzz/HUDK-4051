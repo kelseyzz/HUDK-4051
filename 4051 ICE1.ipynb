{
 "cells": [
  {
   "cell_type": "markdown",
   "id": "ecd9e110",
   "metadata": {},
   "source": [
    "# Xiaoyue Zhu"
   ]
  },
  {
   "cell_type": "markdown",
   "id": "77cfdb4a",
   "metadata": {},
   "source": [
    "# SELECTing multiple columns\n",
    "In the real world, you will often want to select multiple columns. Luckily, SQL makes this really easy. To select multiple columns from a table, simply separate the column names with commas!\n",
    "\n",
    "For example, this query selects two columns, name and birthdate, from the people table:\n",
    "\n",
    "SELECT name, birthdate\n",
    "FROM people;\n",
    "Sometimes, you may want to select all columns from a table. Typing out every column name would be a pain, so there's a handy shortcut:\n",
    "\n",
    "SELECT *\n",
    "FROM people;\n",
    "If you only want to return a certain number of results, you can use the LIMIT keyword to limit the number of rows returned:\n",
    "\n",
    "SELECT *\n",
    "FROM people\n",
    "LIMIT 10;\n",
    "Before getting started with the instructions below, check out the column names in the films table!"
   ]
  },
  {
   "cell_type": "markdown",
   "id": "03717a5c",
   "metadata": {},
   "source": [
    "# SELECT DISTINCT\n",
    "Often your results will include many duplicate values. If you want to select all the unique values from a column, you can use the DISTINCT keyword.\n",
    "\n",
    "This might be useful if, for example, you're interested in knowing which languages are represented in the films table:\n",
    "\n",
    "SELECT DISTINCT language\n",
    "FROM films;\n",
    "Remember, you can check out the data in the tables by clicking on the table name!"
   ]
  },
  {
   "cell_type": "markdown",
   "id": "44bc14b9",
   "metadata": {},
   "source": [
    "e.g. Get all the different film certifications from the films table.\n",
    "\n",
    "SELECT DISTINCT certification\n",
    "\n",
    "FROM films;\n",
    "\n",
    "e.g. Get the different types of film roles from the roles table.\n",
    "\n",
    "SELECT DISTINCT role\n",
    "\n",
    "FROM roles;"
   ]
  },
  {
   "cell_type": "markdown",
   "id": "5ae61972",
   "metadata": {},
   "source": [
    "# Simple filtering of text\n",
    "The WHERE clause can also be used to filter text results, such as names or countries.\n",
    "\n",
    "For example, this query gets the titles of all films which were filmed in China:\n",
    "\n",
    "SELECT title\n",
    "FROM films\n",
    "WHERE country = 'China';\n",
    "Now it's your turn to practice using WHERE with text values!\n",
    "\n",
    "Important: in PostgreSQL (the version of SQL we're using), you must use single quotes with WHERE."
   ]
  },
  {
   "cell_type": "markdown",
   "id": "9383adb6",
   "metadata": {},
   "source": [
    "e.g. Get the name and birth date of the person born on November 11th, 1974. Remember to use ISO date format ('1974-11-11')!\n",
    "\n",
    "\n",
    "SELECT name, birthdate\n",
    "\n",
    "FROM people\n",
    "\n",
    "WHERE birthdate = '1974-11-11';"
   ]
  },
  {
   "cell_type": "markdown",
   "id": "fbd34f2f",
   "metadata": {},
   "source": [
    "# WHERE AND\n",
    "Often, you'll want to select data based on multiple conditions. You can build up your WHERE queries by combining multiple conditions with the AND keyword.\n",
    "\n",
    "For example,\n",
    "\n",
    "SELECT title\n",
    "FROM films\n",
    "WHERE release_year > 1994\n",
    "AND release_year < 2000;\n",
    "gives you the titles of films released between 1994 and 2000.\n",
    "\n",
    "Note that you need to specify the column name separately for every AND condition, so the following would be invalid:\n",
    "\n",
    "SELECT title\n",
    "FROM films\n",
    "WHERE release_year > 1994 AND < 2000;\n",
    "You can add as many AND conditions as you need!"
   ]
  },
  {
   "cell_type": "markdown",
   "id": "add3e0ea",
   "metadata": {},
   "source": [
    "e.g. Get the title and release year for all Spanish language films released before 2000.\n",
    "\n",
    "SELECT title, release_year\n",
    "\n",
    "FROM films\n",
    "\n",
    "WHERE release_year < 2000\n",
    "\n",
    "AND language = 'Spanish';"
   ]
  },
  {
   "cell_type": "markdown",
   "id": "04919813",
   "metadata": {},
   "source": [
    "# Combining aggregate functions with WHERE\n",
    "Aggregate functions can be combined with the WHERE clause to gain further insights from your data.\n",
    "\n",
    "For example, to get the total budget of movies made in the year 2010 or later:\n",
    "\n",
    "SELECT SUM(budget)\n",
    "FROM films\n",
    "WHERE release_year >= 2010;\n",
    "Now it's your turn!\n",
    "\n",
    "Instructions 1/4"
   ]
  },
  {
   "cell_type": "markdown",
   "id": "5776cd21",
   "metadata": {},
   "source": [
    "e.g.Use the SUM() function to get the total amount grossed by all films made in the year 2000 or later.\n",
    "\n",
    "SELECT SUM(gross)\n",
    "\n",
    "FROM films\n",
    "\n",
    "WHERE release_year >= 2000;\n",
    "\n",
    "e.g.Get the average amount grossed by all films whose titles start with the letter 'A'.\n",
    "\n",
    "SELECT AVG(gross)\n",
    "\n",
    "FROM films\n",
    "\n",
    "where title LIKE 'A%';\n",
    "\n",
    "e.g. Get the amount grossed by the worst performing film in 1994.\n",
    "\n",
    "SELECT MIN(gross)\n",
    "\n",
    "FROM films\n",
    "\n",
    "WHERE release_year = 1994;\n"
   ]
  },
  {
   "cell_type": "markdown",
   "id": "c0dd469a",
   "metadata": {},
   "source": [
    "# Even more aliasing\n",
    "Let's practice your newfound aliasing skills some more before moving on!\n",
    "\n",
    "Recall: SQL assumes that if you divide an integer by an integer, you want to get an integer back.\n",
    "\n",
    "This means that the following will erroneously result in 400.0:\n",
    "\n",
    "SELECT 45 / 10 * 100.0;\n",
    "This is because 45 / 10 evaluates to an integer (4), and not a decimal number like we would expect.\n",
    "\n",
    "So when you're dividing make sure at least one of your numbers has a decimal place:\n",
    "\n",
    "SELECT 45 * 100.0 / 10;\n",
    "The above now gives the correct answer of 450.0 since the numerator (45 * 100.0) of the division is now a decimal!"
   ]
  },
  {
   "cell_type": "markdown",
   "id": "bdfbbfd3",
   "metadata": {},
   "source": [
    "e.g. Get the percentage of people who are no longer alive. Alias the result as percentage_dead. Remember to use 100.0 and not 100!\n",
    "\n",
    "-- get the count(deathdate) and multiply by 100.0\n",
    "\n",
    "-- then divide by count(*) \n",
    "\n",
    "SELECT COUNT(deathdate) * 100.0 / COUNT(*) AS percentage_dead\n",
    "\n",
    "FROM people;\n",
    "\n",
    "e.g. Get the number of years between the newest film and oldest film. Alias the result as difference.\n",
    "\n",
    "SELECT MAX(release_year) - MIN(release_year)\n",
    "\n",
    "AS difference\n",
    "\n",
    "FROM films;\n",
    "\n",
    "e.g. Get the number of decades the films table covers. Alias the result as number_of_decades. The top half of your fraction should be enclosed in parentheses.\n",
    "\n",
    "SELECT (MAX(release_year) - MIN(release_year)) / 10.0\n",
    "\n",
    "AS number_of_decades\n",
    "\n",
    "FROM films;"
   ]
  },
  {
   "cell_type": "markdown",
   "id": "b5656bc9",
   "metadata": {},
   "source": [
    "# Sorting single columns\n",
    "Now that you understand how ORDER BY works, give these exercises a go!"
   ]
  },
  {
   "cell_type": "markdown",
   "id": "70bee996",
   "metadata": {},
   "source": [
    "e.g. Get the names of people from the people table, sorted alphabetically.\n",
    "\n",
    "SELECT name\n",
    "\n",
    "FROM people\n",
    "\n",
    "ORDER BY name;\n",
    "\n",
    "e.g"
   ]
  },
  {
   "cell_type": "markdown",
   "id": "0102a422",
   "metadata": {},
   "source": [
    "# All Together"
   ]
  },
  {
   "cell_type": "markdown",
   "id": "cae81b42",
   "metadata": {},
   "source": [
    "Get the country, average budget, and average gross take of countries that have made more than 10 films. Order the result by country name, and limit the number of results displayed to 5. You should alias the averages as avg_budget and avg_gross respectively.\n",
    "\n",
    "-- select country, average budget, \n",
    "--     and average gross\n",
    "\n",
    "-- from the films table\n",
    "\n",
    "-- group by country \n",
    "\n",
    "-- where the country has more than 10 titles\n",
    "\n",
    "-- order by country\n",
    "\n",
    "-- limit to only show 5 results"
   ]
  },
  {
   "cell_type": "code",
   "execution_count": null,
   "id": "ad94312d",
   "metadata": {},
   "outputs": [],
   "source": []
  }
 ],
 "metadata": {
  "kernelspec": {
   "display_name": "Python 3",
   "language": "python",
   "name": "python3"
  },
  "language_info": {
   "codemirror_mode": {
    "name": "ipython",
    "version": 3
   },
   "file_extension": ".py",
   "mimetype": "text/x-python",
   "name": "python",
   "nbconvert_exporter": "python",
   "pygments_lexer": "ipython3",
   "version": "3.8.8"
  }
 },
 "nbformat": 4,
 "nbformat_minor": 5
}
